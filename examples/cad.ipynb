{
 "cells": [
  {
   "cell_type": "markdown",
   "metadata": {},
   "source": [
    "# Functionality of the `cad` module"
   ]
  },
  {
   "cell_type": "markdown",
   "metadata": {},
   "source": [
    "The `cad` module allows for the construction of a _cylindrical algebraic decomposition_ for polynomial systems of a special type, as described in our paper. This module in particular can construct CADs of simplices, glue disjoint simplices together, and extend these to a simplex-extensible function of the form $f^* := g_0 + \\sum_1^n x_i g_i$. As we showed in the paper, this function is simplex-extensible if and only if each of $\\{g_i\\}_0^n$ are sign-invariant over the cells of the given simplex CAD. We leave it to the user to check this. However, we showed in the paper that this property holds for inequalities arising from the Markov analyses implemented in the `markov` module. This notebook demonstrates its functionality."
   ]
  },
  {
   "cell_type": "markdown",
   "metadata": {},
   "source": [
    "## Imports"
   ]
  },
  {
   "cell_type": "code",
   "execution_count": 4,
   "metadata": {},
   "outputs": [
    {
     "data": {
      "text/plain": [
       "(a, b, c, d, e, f, x, x_1, x_2, x_3)"
      ]
     },
     "execution_count": 4,
     "metadata": {},
     "output_type": "execute_result"
    }
   ],
   "source": [
    "from markovag import cad\n",
    "from sympy import var, Interval, FiniteSet\n",
    "\n",
    "var('a,b,c,d,e,f,x,x_1,x_2,x_3')"
   ]
  },
  {
   "cell_type": "markdown",
   "metadata": {},
   "source": [
    "## Foundational classes"
   ]
  },
  {
   "cell_type": "markdown",
   "metadata": {},
   "source": [
    "This module introduces the `CadNode` class, which is the foundation for all CAD construction. The CAD data structure is essentially a tree, where each node holds a variable and a sample point. In our class, one passes a variable and a condition, which is either a `sympy.Interval` or a `sympy.FinitePoint`, based on the type of cell. Based on this, the class automatically computes a sample point. As well, it propagates sample points from its ancestors, if a parent is given. In order to start a CAD tree, there must be a `CadRootNode` object as the root. This does not add any information to the tree, it is just required for manipulation. We will see this later when we build CADs."
   ]
  },
  {
   "cell_type": "code",
   "execution_count": 3,
   "metadata": {},
   "outputs": [
    {
     "name": "stdout",
     "output_type": "stream",
     "text": [
      "x_1 1/2\n"
     ]
    }
   ],
   "source": [
    "node = cad.CadNode(x_1, Interval(0,1))\n",
    "print(node.var, node.sample)"
   ]
  },
  {
   "cell_type": "code",
   "execution_count": 4,
   "metadata": {},
   "outputs": [
    {
     "name": "stdout",
     "output_type": "stream",
     "text": [
      "x_2 1/4\n"
     ]
    }
   ],
   "source": [
    "node1 = cad.CadNode(x_2, Interval(0, x_1), parent=node)\n",
    "print(node1.var, node1.sample)"
   ]
  },
  {
   "cell_type": "markdown",
   "metadata": {},
   "source": [
    "Observe that the sample point for `node1` has been accurately computed, as this cell is being lifted over the cell where $x_1 \\in (0,1)$."
   ]
  },
  {
   "cell_type": "markdown",
   "metadata": {},
   "source": [
    "## The Simplex CAD"
   ]
  },
  {
   "cell_type": "markdown",
   "metadata": {},
   "source": [
    "In the paper, we show that there is an easy characterization of the simplex CAD. It can be worked out by hand pretty easily... although may become tedious if the number of variables grows. However, generating it on a computer takes some care to propagate equalities and simplify expressions. The `simplex_cad()` function takes a list of variables, and makes a simplex CAD of them. The variables appear in the tree in the order in which they are passed. There is also an optional parameter `rhs`, which can take a non-negative value less than 1, as this is necessary for some Markov analyses. The function returns the root node of the tree."
   ]
  },
  {
   "cell_type": "code",
   "execution_count": 104,
   "metadata": {},
   "outputs": [],
   "source": [
    "simplex = cad.simplex_cad([a,b,c])"
   ]
  },
  {
   "cell_type": "markdown",
   "metadata": {},
   "source": [
    "We will discuss printing trees in more detail further down. For now, we will use the `cad_print()` function to render it."
   ]
  },
  {
   "cell_type": "code",
   "execution_count": 105,
   "metadata": {},
   "outputs": [
    {
     "name": "stdout",
     "output_type": "stream",
     "text": [
      "root\n",
      "├──  $a = 0$\n",
      "│   ├──  $b = 0$\n",
      "│   │   └──  $c = 1$\n",
      "│   ├──  $0 < b < 1$\n",
      "│   │   └──  $c = 1 - b$\n",
      "│   └──  $b = 1$\n",
      "│       └──  $c = 0$\n",
      "├──  $0 < a < 1$\n",
      "│   ├──  $b = 0$\n",
      "│   │   └──  $c = 1 - a$\n",
      "│   ├──  $0 < b < 1 - a$\n",
      "│   │   └──  $c = - a - b + 1$\n",
      "│   └──  $b = 1 - a$\n",
      "│       └──  $c = 0$\n",
      "└──  $a = 1$\n",
      "    └──  $b = 0$\n",
      "        └──  $c = 0$\n"
     ]
    }
   ],
   "source": [
    "cad.cad_print(simplex)"
   ]
  },
  {
   "cell_type": "markdown",
   "metadata": {},
   "source": [
    "This is a pretty small CAD which makes sense. We can also change the `rhs` to another value."
   ]
  },
  {
   "cell_type": "code",
   "execution_count": 106,
   "metadata": {},
   "outputs": [
    {
     "name": "stdout",
     "output_type": "stream",
     "text": [
      "root\n",
      "├──  $a = 0$\n",
      "│   ├──  $b = 0$\n",
      "│   │   └──  $c = 0.5$\n",
      "│   ├──  $0 < b < 0.5$\n",
      "│   │   └──  $c = 0.5 - b$\n",
      "│   └──  $b = 0.5$\n",
      "│       └──  $c = 0$\n",
      "├──  $0 < a < 0.5$\n",
      "│   ├──  $b = 0$\n",
      "│   │   └──  $c = 0.5 - a$\n",
      "│   ├──  $0 < b < 0.5 - a$\n",
      "│   │   └──  $c = - a - b + 0.5$\n",
      "│   └──  $b = 0.5 - a$\n",
      "│       └──  $c = 0$\n",
      "└──  $a = 0.5$\n",
      "    └──  $b = 0$\n",
      "        └──  $c = 0$\n"
     ]
    }
   ],
   "source": [
    "simplex = cad.simplex_cad([a,b,c], rhs=0.5)\n",
    "cad.cad_print(simplex)"
   ]
  },
  {
   "cell_type": "markdown",
   "metadata": {},
   "source": [
    "We can then glue multiple simplices together. The function `glue_simplex_cads()` takes a list (of the roots) of simplex CADs. They should be disjoint. The user should check this before calling it. They will be glued in order. It will return the root of the first simplex CAD. Because of the way the `anytree` package works, the first simplex tree will be modified. If you don't want this, you can `import copy` and use `copy.deepcopy()` first. "
   ]
  },
  {
   "cell_type": "code",
   "execution_count": 107,
   "metadata": {},
   "outputs": [
    {
     "name": "stdout",
     "output_type": "stream",
     "text": [
      "root\n",
      "├──  $a = 0$\n",
      "│   ├──  $b = 0$\n",
      "│   │   └──  $c = 1$\n",
      "│   │       ├──  $d = 0$\n",
      "│   │       │   ├──  $e = 0$\n",
      "│   │       │   │   └──  $f = 0.5$\n",
      "│   │       │   ├──  $0 < e < 0.5$\n",
      "│   │       │   │   └──  $f = 0.5 - e$\n",
      "│   │       │   └──  $e = 0.5$\n",
      "│   │       │       └──  $f = 0$\n",
      "│   │       ├──  $0 < d < 0.5$\n",
      "│   │       │   ├──  $e = 0$\n",
      "│   │       │   │   └──  $f = 0.5 - d$\n",
      "│   │       │   ├──  $0 < e < 0.5 - d$\n",
      "│   │       │   │   └──  $f = - d - e + 0.5$\n",
      "│   │       │   └──  $e = 0.5 - d$\n",
      "│   │       │       └──  $f = 0$\n",
      "│   │       └──  $d = 0.5$\n",
      "│   │           └──  $e = 0$\n",
      "│   │               └──  $f = 0$\n",
      "│   ├──  $0 < b < 1$\n",
      "│   │   └──  $c = 1 - b$\n",
      "│   │       ├──  $d = 0$\n",
      "│   │       │   ├──  $e = 0$\n",
      "│   │       │   │   └──  $f = 0.5$\n",
      "│   │       │   ├──  $0 < e < 0.5$\n",
      "│   │       │   │   └──  $f = 0.5 - e$\n",
      "│   │       │   └──  $e = 0.5$\n",
      "│   │       │       └──  $f = 0$\n",
      "│   │       ├──  $0 < d < 0.5$\n",
      "│   │       │   ├──  $e = 0$\n",
      "│   │       │   │   └──  $f = 0.5 - d$\n",
      "│   │       │   ├──  $0 < e < 0.5 - d$\n",
      "│   │       │   │   └──  $f = - d - e + 0.5$\n",
      "│   │       │   └──  $e = 0.5 - d$\n",
      "│   │       │       └──  $f = 0$\n",
      "│   │       └──  $d = 0.5$\n",
      "│   │           └──  $e = 0$\n",
      "│   │               └──  $f = 0$\n",
      "│   └──  $b = 1$\n",
      "│       └──  $c = 0$\n",
      "│           ├──  $d = 0$\n",
      "│           │   ├──  $e = 0$\n",
      "│           │   │   └──  $f = 0.5$\n",
      "│           │   ├──  $0 < e < 0.5$\n",
      "│           │   │   └──  $f = 0.5 - e$\n",
      "│           │   └──  $e = 0.5$\n",
      "│           │       └──  $f = 0$\n",
      "│           ├──  $0 < d < 0.5$\n",
      "│           │   ├──  $e = 0$\n",
      "│           │   │   └──  $f = 0.5 - d$\n",
      "│           │   ├──  $0 < e < 0.5 - d$\n",
      "│           │   │   └──  $f = - d - e + 0.5$\n",
      "│           │   └──  $e = 0.5 - d$\n",
      "│           │       └──  $f = 0$\n",
      "│           └──  $d = 0.5$\n",
      "│               └──  $e = 0$\n",
      "│                   └──  $f = 0$\n",
      "├──  $0 < a < 1$\n",
      "│   ├──  $b = 0$\n",
      "│   │   └──  $c = 1 - a$\n",
      "│   │       ├──  $d = 0$\n",
      "│   │       │   ├──  $e = 0$\n",
      "│   │       │   │   └──  $f = 0.5$\n",
      "│   │       │   ├──  $0 < e < 0.5$\n",
      "│   │       │   │   └──  $f = 0.5 - e$\n",
      "│   │       │   └──  $e = 0.5$\n",
      "│   │       │       └──  $f = 0$\n",
      "│   │       ├──  $0 < d < 0.5$\n",
      "│   │       │   ├──  $e = 0$\n",
      "│   │       │   │   └──  $f = 0.5 - d$\n",
      "│   │       │   ├──  $0 < e < 0.5 - d$\n",
      "│   │       │   │   └──  $f = - d - e + 0.5$\n",
      "│   │       │   └──  $e = 0.5 - d$\n",
      "│   │       │       └──  $f = 0$\n",
      "│   │       └──  $d = 0.5$\n",
      "│   │           └──  $e = 0$\n",
      "│   │               └──  $f = 0$\n",
      "│   ├──  $0 < b < 1 - a$\n",
      "│   │   └──  $c = - a - b + 1$\n",
      "│   │       ├──  $d = 0$\n",
      "│   │       │   ├──  $e = 0$\n",
      "│   │       │   │   └──  $f = 0.5$\n",
      "│   │       │   ├──  $0 < e < 0.5$\n",
      "│   │       │   │   └──  $f = 0.5 - e$\n",
      "│   │       │   └──  $e = 0.5$\n",
      "│   │       │       └──  $f = 0$\n",
      "│   │       ├──  $0 < d < 0.5$\n",
      "│   │       │   ├──  $e = 0$\n",
      "│   │       │   │   └──  $f = 0.5 - d$\n",
      "│   │       │   ├──  $0 < e < 0.5 - d$\n",
      "│   │       │   │   └──  $f = - d - e + 0.5$\n",
      "│   │       │   └──  $e = 0.5 - d$\n",
      "│   │       │       └──  $f = 0$\n",
      "│   │       └──  $d = 0.5$\n",
      "│   │           └──  $e = 0$\n",
      "│   │               └──  $f = 0$\n",
      "│   └──  $b = 1 - a$\n",
      "│       └──  $c = 0$\n",
      "│           ├──  $d = 0$\n",
      "│           │   ├──  $e = 0$\n",
      "│           │   │   └──  $f = 0.5$\n",
      "│           │   ├──  $0 < e < 0.5$\n",
      "│           │   │   └──  $f = 0.5 - e$\n",
      "│           │   └──  $e = 0.5$\n",
      "│           │       └──  $f = 0$\n",
      "│           ├──  $0 < d < 0.5$\n",
      "│           │   ├──  $e = 0$\n",
      "│           │   │   └──  $f = 0.5 - d$\n",
      "│           │   ├──  $0 < e < 0.5 - d$\n",
      "│           │   │   └──  $f = - d - e + 0.5$\n",
      "│           │   └──  $e = 0.5 - d$\n",
      "│           │       └──  $f = 0$\n",
      "│           └──  $d = 0.5$\n",
      "│               └──  $e = 0$\n",
      "│                   └──  $f = 0$\n",
      "└──  $a = 1$\n",
      "    └──  $b = 0$\n",
      "        └──  $c = 0$\n",
      "            ├──  $d = 0$\n",
      "            │   ├──  $e = 0$\n",
      "            │   │   └──  $f = 0.5$\n",
      "            │   ├──  $0 < e < 0.5$\n",
      "            │   │   └──  $f = 0.5 - e$\n",
      "            │   └──  $e = 0.5$\n",
      "            │       └──  $f = 0$\n",
      "            ├──  $0 < d < 0.5$\n",
      "            │   ├──  $e = 0$\n",
      "            │   │   └──  $f = 0.5 - d$\n",
      "            │   ├──  $0 < e < 0.5 - d$\n",
      "            │   │   └──  $f = - d - e + 0.5$\n",
      "            │   └──  $e = 0.5 - d$\n",
      "            │       └──  $f = 0$\n",
      "            └──  $d = 0.5$\n",
      "                └──  $e = 0$\n",
      "                    └──  $f = 0$\n"
     ]
    }
   ],
   "source": [
    "simplex_1 = cad.simplex_cad([a,b,c])\n",
    "simplex_2 = cad.simplex_cad([d,e,f], rhs=0.5)\n",
    "\n",
    "glued = cad.glue_simplex_cads([simplex_1, simplex_2])\n",
    "\n",
    "cad.cad_print(glued)"
   ]
  },
  {
   "cell_type": "markdown",
   "metadata": {},
   "source": [
    "But note that the first simplex that was passed has also been modified! The variables `glued` and `simplex_1` point to the same root."
   ]
  },
  {
   "cell_type": "code",
   "execution_count": 108,
   "metadata": {},
   "outputs": [
    {
     "name": "stdout",
     "output_type": "stream",
     "text": [
      "root\n",
      "├──  $a = 0$\n",
      "│   ├──  $b = 0$\n",
      "│   │   └──  $c = 1$\n",
      "│   │       ├──  $d = 0$\n",
      "│   │       │   ├──  $e = 0$\n",
      "│   │       │   │   └──  $f = 0.5$\n",
      "│   │       │   ├──  $0 < e < 0.5$\n",
      "│   │       │   │   └──  $f = 0.5 - e$\n",
      "│   │       │   └──  $e = 0.5$\n",
      "│   │       │       └──  $f = 0$\n",
      "│   │       ├──  $0 < d < 0.5$\n",
      "│   │       │   ├──  $e = 0$\n",
      "│   │       │   │   └──  $f = 0.5 - d$\n",
      "│   │       │   ├──  $0 < e < 0.5 - d$\n",
      "│   │       │   │   └──  $f = - d - e + 0.5$\n",
      "│   │       │   └──  $e = 0.5 - d$\n",
      "│   │       │       └──  $f = 0$\n",
      "│   │       └──  $d = 0.5$\n",
      "│   │           └──  $e = 0$\n",
      "│   │               └──  $f = 0$\n",
      "│   ├──  $0 < b < 1$\n",
      "│   │   └──  $c = 1 - b$\n",
      "│   │       ├──  $d = 0$\n",
      "│   │       │   ├──  $e = 0$\n",
      "│   │       │   │   └──  $f = 0.5$\n",
      "│   │       │   ├──  $0 < e < 0.5$\n",
      "│   │       │   │   └──  $f = 0.5 - e$\n",
      "│   │       │   └──  $e = 0.5$\n",
      "│   │       │       └──  $f = 0$\n",
      "│   │       ├──  $0 < d < 0.5$\n",
      "│   │       │   ├──  $e = 0$\n",
      "│   │       │   │   └──  $f = 0.5 - d$\n",
      "│   │       │   ├──  $0 < e < 0.5 - d$\n",
      "│   │       │   │   └──  $f = - d - e + 0.5$\n",
      "│   │       │   └──  $e = 0.5 - d$\n",
      "│   │       │       └──  $f = 0$\n",
      "│   │       └──  $d = 0.5$\n",
      "│   │           └──  $e = 0$\n",
      "│   │               └──  $f = 0$\n",
      "│   └──  $b = 1$\n",
      "│       └──  $c = 0$\n",
      "│           ├──  $d = 0$\n",
      "│           │   ├──  $e = 0$\n",
      "│           │   │   └──  $f = 0.5$\n",
      "│           │   ├──  $0 < e < 0.5$\n",
      "│           │   │   └──  $f = 0.5 - e$\n",
      "│           │   └──  $e = 0.5$\n",
      "│           │       └──  $f = 0$\n",
      "│           ├──  $0 < d < 0.5$\n",
      "│           │   ├──  $e = 0$\n",
      "│           │   │   └──  $f = 0.5 - d$\n",
      "│           │   ├──  $0 < e < 0.5 - d$\n",
      "│           │   │   └──  $f = - d - e + 0.5$\n",
      "│           │   └──  $e = 0.5 - d$\n",
      "│           │       └──  $f = 0$\n",
      "│           └──  $d = 0.5$\n",
      "│               └──  $e = 0$\n",
      "│                   └──  $f = 0$\n",
      "├──  $0 < a < 1$\n",
      "│   ├──  $b = 0$\n",
      "│   │   └──  $c = 1 - a$\n",
      "│   │       ├──  $d = 0$\n",
      "│   │       │   ├──  $e = 0$\n",
      "│   │       │   │   └──  $f = 0.5$\n",
      "│   │       │   ├──  $0 < e < 0.5$\n",
      "│   │       │   │   └──  $f = 0.5 - e$\n",
      "│   │       │   └──  $e = 0.5$\n",
      "│   │       │       └──  $f = 0$\n",
      "│   │       ├──  $0 < d < 0.5$\n",
      "│   │       │   ├──  $e = 0$\n",
      "│   │       │   │   └──  $f = 0.5 - d$\n",
      "│   │       │   ├──  $0 < e < 0.5 - d$\n",
      "│   │       │   │   └──  $f = - d - e + 0.5$\n",
      "│   │       │   └──  $e = 0.5 - d$\n",
      "│   │       │       └──  $f = 0$\n",
      "│   │       └──  $d = 0.5$\n",
      "│   │           └──  $e = 0$\n",
      "│   │               └──  $f = 0$\n",
      "│   ├──  $0 < b < 1 - a$\n",
      "│   │   └──  $c = - a - b + 1$\n",
      "│   │       ├──  $d = 0$\n",
      "│   │       │   ├──  $e = 0$\n",
      "│   │       │   │   └──  $f = 0.5$\n",
      "│   │       │   ├──  $0 < e < 0.5$\n",
      "│   │       │   │   └──  $f = 0.5 - e$\n",
      "│   │       │   └──  $e = 0.5$\n",
      "│   │       │       └──  $f = 0$\n",
      "│   │       ├──  $0 < d < 0.5$\n",
      "│   │       │   ├──  $e = 0$\n",
      "│   │       │   │   └──  $f = 0.5 - d$\n",
      "│   │       │   ├──  $0 < e < 0.5 - d$\n",
      "│   │       │   │   └──  $f = - d - e + 0.5$\n",
      "│   │       │   └──  $e = 0.5 - d$\n",
      "│   │       │       └──  $f = 0$\n",
      "│   │       └──  $d = 0.5$\n",
      "│   │           └──  $e = 0$\n",
      "│   │               └──  $f = 0$\n",
      "│   └──  $b = 1 - a$\n",
      "│       └──  $c = 0$\n",
      "│           ├──  $d = 0$\n",
      "│           │   ├──  $e = 0$\n",
      "│           │   │   └──  $f = 0.5$\n",
      "│           │   ├──  $0 < e < 0.5$\n",
      "│           │   │   └──  $f = 0.5 - e$\n",
      "│           │   └──  $e = 0.5$\n",
      "│           │       └──  $f = 0$\n",
      "│           ├──  $0 < d < 0.5$\n",
      "│           │   ├──  $e = 0$\n",
      "│           │   │   └──  $f = 0.5 - d$\n",
      "│           │   ├──  $0 < e < 0.5 - d$\n",
      "│           │   │   └──  $f = - d - e + 0.5$\n",
      "│           │   └──  $e = 0.5 - d$\n",
      "│           │       └──  $f = 0$\n",
      "│           └──  $d = 0.5$\n",
      "│               └──  $e = 0$\n",
      "│                   └──  $f = 0$\n",
      "└──  $a = 1$\n",
      "    └──  $b = 0$\n",
      "        └──  $c = 0$\n",
      "            ├──  $d = 0$\n",
      "            │   ├──  $e = 0$\n",
      "            │   │   └──  $f = 0.5$\n",
      "            │   ├──  $0 < e < 0.5$\n",
      "            │   │   └──  $f = 0.5 - e$\n",
      "            │   └──  $e = 0.5$\n",
      "            │       └──  $f = 0$\n",
      "            ├──  $0 < d < 0.5$\n",
      "            │   ├──  $e = 0$\n",
      "            │   │   └──  $f = 0.5 - d$\n",
      "            │   ├──  $0 < e < 0.5 - d$\n",
      "            │   │   └──  $f = - d - e + 0.5$\n",
      "            │   └──  $e = 0.5 - d$\n",
      "            │       └──  $f = 0$\n",
      "            └──  $d = 0.5$\n",
      "                └──  $e = 0$\n",
      "                    └──  $f = 0$\n"
     ]
    }
   ],
   "source": [
    "cad.cad_print(simplex_1)"
   ]
  },
  {
   "cell_type": "markdown",
   "metadata": {},
   "source": [
    "## Extending to a simplex-extensible function"
   ]
  },
  {
   "cell_type": "markdown",
   "metadata": {},
   "source": [
    "The procedure discussed in the paper is that we should compute the simplex CADs, glue them together, _then_ lift on the remaining variables. This is what the function `simplex_extensible_cad()` does. To use it, we pass the root of a simplex CAD (which may be many simplices glued together), a function $g_0$ of the $\\alpha$-type variables, a list of functions $g_i$ of the $\\alpha$-type variables, and then a list of $x$-type variables. See our paper for the definitions."
   ]
  },
  {
   "cell_type": "markdown",
   "metadata": {},
   "source": [
    "Suppose we have the following system: $f^* := ax_1 + bx_2 - 1 \\geq 0$ such that $a+b=1$, and $a,b \\in [0,1]$, and $x_1,x_2 \\geq 0$. We can decompose this into:\n",
    "$$\n",
    "f^* = \\underbrace{a}_{g_1} x_1 + \\underbrace{b}_{g_2} x_2 + \\underbrace{-1}_{g_0}\n",
    "$$\n",
    "\n",
    "As each of $g_0, g_1, g_2$ are invariant over the unit simplex, $f^*$ is _simplex-extensible_, in the words of Maaz 2024. Therefore, we can construct the CAD in a simple way."
   ]
  },
  {
   "cell_type": "code",
   "execution_count": 110,
   "metadata": {},
   "outputs": [
    {
     "name": "stdout",
     "output_type": "stream",
     "text": [
      "root\n",
      "├──  $a = 0$\n",
      "│   └──  $b = 1$\n",
      "│       ├──  $x_1 = 0$\n",
      "│       │   ├──  $x_2 = 1$\n",
      "│       │   └──  $x_2 > 1$\n",
      "│       ├──  $0 < x_1 < 1$\n",
      "│       │   ├──  $x_2 = 1 - x_{1}$\n",
      "│       │   └──  $x_2 > 1 - x_{1}$\n",
      "│       ├──  $x_1 = 1$\n",
      "│       │   ├──  $x_2 = 0$\n",
      "│       │   └──  $x_2 > 0$\n",
      "│       └──  $x_1 > 1$\n",
      "│           ├──  $x_2 = 0$\n",
      "│           └──  $x_2 > 0$\n",
      "├──  $0 < a < 1$\n",
      "│   └──  $b = 1 - a$\n",
      "│       ├──  $x_1 = 0$\n",
      "│       │   ├──  $x_2 = 1$\n",
      "│       │   └──  $x_2 > 1$\n",
      "│       ├──  $0 < x_1 < 1$\n",
      "│       │   ├──  $x_2 = 1 - x_{1}$\n",
      "│       │   └──  $x_2 > 1 - x_{1}$\n",
      "│       ├──  $x_1 = 1$\n",
      "│       │   ├──  $x_2 = 0$\n",
      "│       │   └──  $x_2 > 0$\n",
      "│       └──  $x_1 > 1$\n",
      "│           ├──  $x_2 = 0$\n",
      "│           └──  $x_2 > 0$\n",
      "└──  $a = 1$\n",
      "    └──  $b = 0$\n",
      "        ├──  $x_1 = 0$\n",
      "        │   ├──  $x_2 = 1$\n",
      "        │   └──  $x_2 > 1$\n",
      "        ├──  $0 < x_1 < 1$\n",
      "        │   ├──  $x_2 = 1 - x_{1}$\n",
      "        │   └──  $x_2 > 1 - x_{1}$\n",
      "        ├──  $x_1 = 1$\n",
      "        │   ├──  $x_2 = 0$\n",
      "        │   └──  $x_2 > 0$\n",
      "        └──  $x_1 > 1$\n",
      "            ├──  $x_2 = 0$\n",
      "            └──  $x_2 > 0$\n"
     ]
    }
   ],
   "source": [
    "tree = cad.simplex_cad([a,b])\n",
    "tree = cad.simplex_extensible_cad(tree, -1, [1,1], [x_1, x_2])\n",
    "\n",
    "cad.cad_print(tree)"
   ]
  },
  {
   "cell_type": "markdown",
   "metadata": {},
   "source": [
    "This is a pretty simple function. Based on the theory developed in the paper, the function can create the _possible_ cells for the CAD, and then afterwards the tree is pruned according to if the defining inequality $f^* \\geq 0$ holds. We can extend this to more complicated simplex-extensible functions. Suppose now $f^* := -10 + abx_1 + (a^2 + b^2) x_2$"
   ]
  },
  {
   "cell_type": "code",
   "execution_count": 147,
   "metadata": {},
   "outputs": [
    {
     "name": "stdout",
     "output_type": "stream",
     "text": [
      "root\n",
      "├──  $a = 0$\n",
      "│   └──  $b = 1$\n",
      "│       ├──  $x_1 = 0$\n",
      "│       │   ├──  $x_2 = 10$\n",
      "│       │   └──  $x_2 > 10$\n",
      "│       └──  $x_1 > 0$\n",
      "│           ├──  $x_2 = 10$\n",
      "│           └──  $x_2 > 10$\n",
      "├──  $0 < a < 1$\n",
      "│   └──  $b = 1 - a$\n",
      "│       ├──  $x_1 = 0$\n",
      "│       │   ├──  $x_2 = \\frac{10}{a^{2} + \\left(1 - a\\right)^{2}}$\n",
      "│       │   └──  $x_2 > \\frac{10}{a^{2} + \\left(1 - a\\right)^{2}}$\n",
      "│       ├──  $0 < x_1 < \\frac{10}{a \\left(1 - a\\right)}$\n",
      "│       │   ├──  $x_2 = \\frac{- a x_{1} \\cdot \\left(1 - a\\right) + 10}{a^{2} + \\left(1 - a\\right)^{2}}$\n",
      "│       │   └──  $x_2 > \\frac{- a x_{1} \\cdot \\left(1 - a\\right) + 10}{a^{2} + \\left(1 - a\\right)^{2}}$\n",
      "│       ├──  $x_1 = \\frac{10}{a \\left(1 - a\\right)}$\n",
      "│       │   ├──  $x_2 = 0$\n",
      "│       │   └──  $x_2 > 0$\n",
      "│       └──  $x_1 > \\frac{10}{a \\left(1 - a\\right)}$\n",
      "│           ├──  $x_2 = 0$\n",
      "│           └──  $x_2 > 0$\n",
      "└──  $a = 1$\n",
      "    └──  $b = 0$\n",
      "        ├──  $x_1 = 0$\n",
      "        │   ├──  $x_2 = 10$\n",
      "        │   └──  $x_2 > 10$\n",
      "        └──  $x_1 > 0$\n",
      "            ├──  $x_2 = 10$\n",
      "            └──  $x_2 > 10$\n"
     ]
    }
   ],
   "source": [
    "tree = cad.simplex_cad([a,b])\n",
    "tree = cad.simplex_extensible_cad(tree, -10, [a*b, a**2 + b**2], [x_1, x_2])\n",
    "\n",
    "cad.cad_print(tree)"
   ]
  },
  {
   "cell_type": "markdown",
   "metadata": {},
   "source": [
    "Observe the tree pruning in action! In the cell $0 < a < 1 \\land b = 1 - a \\land x_1 = 0$, a _possible_ cell for $x_2$, based on the roots of the relevant projection factor, is $x_2 = 0$ (and $0 < x_2 < \\frac{10}{a^{2} + \\left(1 - a\\right)^{2}}$). But, these cells are deleted based on the evaluation of the defining inequality.\n",
    "\n",
    "Maybe we only care about when $a$ lies in the open interval, because perhaps the endpoints are too extreme."
   ]
  },
  {
   "cell_type": "code",
   "execution_count": 148,
   "metadata": {},
   "outputs": [
    {
     "name": "stdout",
     "output_type": "stream",
     "text": [
      " $0 < a < 1$\n",
      "└──  $b = 1 - a$\n",
      "    ├──  $x_1 = 0$\n",
      "    │   ├──  $x_2 = \\frac{10}{a^{2} + \\left(1 - a\\right)^{2}}$\n",
      "    │   └──  $x_2 > \\frac{10}{a^{2} + \\left(1 - a\\right)^{2}}$\n",
      "    ├──  $0 < x_1 < \\frac{10}{a \\left(1 - a\\right)}$\n",
      "    │   ├──  $x_2 = \\frac{- a x_{1} \\cdot \\left(1 - a\\right) + 10}{a^{2} + \\left(1 - a\\right)^{2}}$\n",
      "    │   └──  $x_2 > \\frac{- a x_{1} \\cdot \\left(1 - a\\right) + 10}{a^{2} + \\left(1 - a\\right)^{2}}$\n",
      "    ├──  $x_1 = \\frac{10}{a \\left(1 - a\\right)}$\n",
      "    │   ├──  $x_2 = 0$\n",
      "    │   └──  $x_2 > 0$\n",
      "    └──  $x_1 > \\frac{10}{a \\left(1 - a\\right)}$\n",
      "        ├──  $x_2 = 0$\n",
      "        └──  $x_2 > 0$\n"
     ]
    }
   ],
   "source": [
    "cad.cad_print(tree.children[1])"
   ]
  },
  {
   "cell_type": "markdown",
   "metadata": {},
   "source": [
    "Note that the cells for $x_2$ here could probably be simplified if we want for printing. For example, if we have sibling cells $x_2>0$ and $x_2=0$, we could just write $x_2 \\geq 0$. I haven't figured out a good way to do this automatically. Later we will discuss tree rendering."
   ]
  },
  {
   "cell_type": "markdown",
   "metadata": {},
   "source": [
    "Let's say we have no simplex constraints, and there are no $\\alpha$-type variables. Then, the function still works, although in this case the CAD is quite simple and could probably be inferred by hand. You can pass either an empty simplex, i.e., a CAD with only the root node, or you can pass `None`."
   ]
  },
  {
   "cell_type": "code",
   "execution_count": 149,
   "metadata": {},
   "outputs": [
    {
     "name": "stdout",
     "output_type": "stream",
     "text": [
      "root\n",
      "├──  $x_1 = 0$\n",
      "│   ├──  $x_2 = 10$\n",
      "│   └──  $x_2 > 10$\n",
      "├──  $0 < x_1 < 10$\n",
      "│   ├──  $x_2 = 10 - x_{1}$\n",
      "│   └──  $x_2 > 10 - x_{1}$\n",
      "├──  $x_1 = 10$\n",
      "│   ├──  $x_2 = 0$\n",
      "│   └──  $x_2 > 0$\n",
      "└──  $x_1 > 10$\n",
      "    ├──  $x_2 = 0$\n",
      "    └──  $x_2 > 0$\n",
      "root\n",
      "├──  $x_1 = 0$\n",
      "│   ├──  $x_2 = 10$\n",
      "│   └──  $x_2 > 10$\n",
      "├──  $0 < x_1 < 10$\n",
      "│   ├──  $x_2 = 10 - x_{1}$\n",
      "│   └──  $x_2 > 10 - x_{1}$\n",
      "├──  $x_1 = 10$\n",
      "│   ├──  $x_2 = 0$\n",
      "│   └──  $x_2 > 0$\n",
      "└──  $x_1 > 10$\n",
      "    ├──  $x_2 = 0$\n",
      "    └──  $x_2 > 0$\n"
     ]
    }
   ],
   "source": [
    "# empty simplex\n",
    "tree = cad.simplex_cad([])\n",
    "tree = cad.simplex_extensible_cad(tree, -10, [1, 1], [x_1, x_2])\n",
    "\n",
    "cad.cad_print(tree)\n",
    "\n",
    "# or, pass None\n",
    "tree = cad.simplex_extensible_cad(None, -10, [1, 1], [x_1, x_2])\n",
    "\n",
    "cad.cad_print(tree)"
   ]
  },
  {
   "cell_type": "markdown",
   "metadata": {},
   "source": [
    "Of course, we can also work with glued simplex CADs."
   ]
  },
  {
   "cell_type": "code",
   "execution_count": 179,
   "metadata": {},
   "outputs": [
    {
     "name": "stdout",
     "output_type": "stream",
     "text": [
      "root\n",
      "├──  $a = 0$\n",
      "│   └──  $b = 1$\n",
      "│       ├──  $c = 0$\n",
      "│       │   └──  $d = 0.5$\n",
      "│       ├──  $0 < c < 0.5$\n",
      "│       │   └──  $d = 0.5 - c$\n",
      "│       └──  $c = 0.5$\n",
      "│           └──  $d = 0$\n",
      "├──  $0 < a < 1$\n",
      "│   └──  $b = 1 - a$\n",
      "│       ├──  $c = 0$\n",
      "│       │   └──  $d = 0.5$\n",
      "│       ├──  $0 < c < 0.5$\n",
      "│       │   └──  $d = 0.5 - c$\n",
      "│       └──  $c = 0.5$\n",
      "│           └──  $d = 0$\n",
      "└──  $a = 1$\n",
      "    └──  $b = 0$\n",
      "        ├──  $c = 0$\n",
      "        │   └──  $d = 0.5$\n",
      "        ├──  $0 < c < 0.5$\n",
      "        │   └──  $d = 0.5 - c$\n",
      "        └──  $c = 0.5$\n",
      "            └──  $d = 0$\n"
     ]
    }
   ],
   "source": [
    "cad.cad_print(simplex_1)"
   ]
  },
  {
   "cell_type": "code",
   "execution_count": 187,
   "metadata": {},
   "outputs": [
    {
     "name": "stdout",
     "output_type": "stream",
     "text": [
      "root\n",
      "├──  $a = 0$\n",
      "│   └──  $b = 1$\n",
      "│       ├──  $c = 0$\n",
      "│       │   └──  $d = 0.5$\n",
      "│       │       ├──  $x_1 = 2$\n",
      "│       │       │   ├──  $x_2 = 0$\n",
      "│       │       │   └──  $x_2 > 0$\n",
      "│       │       └──  $x_1 > 2$\n",
      "│       │           ├──  $x_2 = 0$\n",
      "│       │           └──  $x_2 > 0$\n",
      "│       ├──  $0 < c < 0.5$\n",
      "│       │   └──  $d = 0.5 - c$\n",
      "│       │       ├──  $x_1 = 0$\n",
      "│       │       │   ├──  $x_2 = \\frac{10}{c \\left(0.5 - c\\right)}$\n",
      "│       │       │   └──  $x_2 > \\frac{10}{c \\left(0.5 - c\\right)}$\n",
      "│       │       ├──  $0 < x_1 < 2$\n",
      "│       │       │   ├──  $x_2 = \\frac{10 - 5 x_{1}}{c \\left(0.5 - c\\right)}$\n",
      "│       │       │   └──  $x_2 > \\frac{10 - 5 x_{1}}{c \\left(0.5 - c\\right)}$\n",
      "│       │       ├──  $x_1 = 2$\n",
      "│       │       │   ├──  $x_2 = 0$\n",
      "│       │       │   └──  $x_2 > 0$\n",
      "│       │       └──  $x_1 > 2$\n",
      "│       │           ├──  $x_2 = 0$\n",
      "│       │           └──  $x_2 > 0$\n",
      "│       └──  $c = 0.5$\n",
      "│           └──  $d = 0$\n",
      "│               ├──  $x_1 = 2$\n",
      "│               │   ├──  $x_2 = 0$\n",
      "│               │   └──  $x_2 > 0$\n",
      "│               └──  $x_1 > 2$\n",
      "│                   ├──  $x_2 = 0$\n",
      "│                   └──  $x_2 > 0$\n",
      "├──  $0 < a < 1$\n",
      "│   └──  $b = 1 - a$\n",
      "│       ├──  $c = 0$\n",
      "│       │   └──  $d = 0.5$\n",
      "│       │       ├──  $x_1 = 0$\n",
      "│       │       │   ├──  $x_2 = \\frac{10}{a}$\n",
      "│       │       │   └──  $x_2 > \\frac{10}{a}$\n",
      "│       │       ├──  $0 < x_1 < \\frac{10}{a \\left(1 - a\\right) + 5}$\n",
      "│       │       │   ├──  $x_2 = \\frac{- x_{1} \\left(a \\left(1 - a\\right) + 5\\right) + 10}{a}$\n",
      "│       │       │   └──  $x_2 > \\frac{- x_{1} \\left(a \\left(1 - a\\right) + 5\\right) + 10}{a}$\n",
      "│       │       ├──  $x_1 = \\frac{10}{a \\left(1 - a\\right) + 5}$\n",
      "│       │       │   ├──  $x_2 = 0$\n",
      "│       │       │   └──  $x_2 > 0$\n",
      "│       │       └──  $x_1 > \\frac{10}{a \\left(1 - a\\right) + 5}$\n",
      "│       │           ├──  $x_2 = 0$\n",
      "│       │           └──  $x_2 > 0$\n",
      "│       ├──  $0 < c < 0.5$\n",
      "│       │   └──  $d = 0.5 - c$\n",
      "│       │       ├──  $x_1 = 0$\n",
      "│       │       │   ├──  $x_2 = \\frac{10}{a + c \\left(0.5 - c\\right)}$\n",
      "│       │       │   └──  $x_2 > \\frac{10}{a + c \\left(0.5 - c\\right)}$\n",
      "│       │       ├──  $0 < x_1 < \\frac{10}{a \\left(1 - a\\right) + 5}$\n",
      "│       │       │   ├──  $x_2 = \\frac{- x_{1} \\left(a \\left(1 - a\\right) + 5\\right) + 10}{a + c \\left(0.5 - c\\right)}$\n",
      "│       │       │   └──  $x_2 > \\frac{- x_{1} \\left(a \\left(1 - a\\right) + 5\\right) + 10}{a + c \\left(0.5 - c\\right)}$\n",
      "│       │       ├──  $x_1 = \\frac{10}{a \\left(1 - a\\right) + 5}$\n",
      "│       │       │   ├──  $x_2 = 0$\n",
      "│       │       │   └──  $x_2 > 0$\n",
      "│       │       └──  $x_1 > \\frac{10}{a \\left(1 - a\\right) + 5}$\n",
      "│       │           ├──  $x_2 = 0$\n",
      "│       │           └──  $x_2 > 0$\n",
      "│       └──  $c = 0.5$\n",
      "│           └──  $d = 0$\n",
      "│               ├──  $x_1 = 0$\n",
      "│               │   ├──  $x_2 = \\frac{10}{a}$\n",
      "│               │   └──  $x_2 > \\frac{10}{a}$\n",
      "│               ├──  $0 < x_1 < \\frac{10}{a \\left(1 - a\\right) + 5}$\n",
      "│               │   ├──  $x_2 = \\frac{- x_{1} \\left(a \\left(1 - a\\right) + 5\\right) + 10}{a}$\n",
      "│               │   └──  $x_2 > \\frac{- x_{1} \\left(a \\left(1 - a\\right) + 5\\right) + 10}{a}$\n",
      "│               ├──  $x_1 = \\frac{10}{a \\left(1 - a\\right) + 5}$\n",
      "│               │   ├──  $x_2 = 0$\n",
      "│               │   └──  $x_2 > 0$\n",
      "│               └──  $x_1 > \\frac{10}{a \\left(1 - a\\right) + 5}$\n",
      "│                   ├──  $x_2 = 0$\n",
      "│                   └──  $x_2 > 0$\n",
      "└──  $a = 1$\n",
      "    └──  $b = 0$\n",
      "        ├──  $c = 0$\n",
      "        │   └──  $d = 0.5$\n",
      "        │       ├──  $x_1 = 0$\n",
      "        │       │   ├──  $x_2 = 10$\n",
      "        │       │   └──  $x_2 > 10$\n",
      "        │       ├──  $0 < x_1 < 2$\n",
      "        │       │   ├──  $x_2 = 10 - 5 x_{1}$\n",
      "        │       │   └──  $x_2 > 10 - 5 x_{1}$\n",
      "        │       ├──  $x_1 = 2$\n",
      "        │       │   ├──  $x_2 = 0$\n",
      "        │       │   └──  $x_2 > 0$\n",
      "        │       └──  $x_1 > 2$\n",
      "        │           ├──  $x_2 = 0$\n",
      "        │           └──  $x_2 > 0$\n",
      "        ├──  $0 < c < 0.5$\n",
      "        │   └──  $d = 0.5 - c$\n",
      "        │       ├──  $x_1 = 0$\n",
      "        │       │   ├──  $x_2 = \\frac{10}{c \\left(0.5 - c\\right) + 1}$\n",
      "        │       │   └──  $x_2 > \\frac{10}{c \\left(0.5 - c\\right) + 1}$\n",
      "        │       ├──  $0 < x_1 < 2$\n",
      "        │       │   ├──  $x_2 = \\frac{10 - 5 x_{1}}{c \\left(0.5 - c\\right) + 1}$\n",
      "        │       │   └──  $x_2 > \\frac{10 - 5 x_{1}}{c \\left(0.5 - c\\right) + 1}$\n",
      "        │       ├──  $x_1 = 2$\n",
      "        │       │   ├──  $x_2 = 0$\n",
      "        │       │   └──  $x_2 > 0$\n",
      "        │       └──  $x_1 > 2$\n",
      "        │           ├──  $x_2 = 0$\n",
      "        │           └──  $x_2 > 0$\n",
      "        └──  $c = 0.5$\n",
      "            └──  $d = 0$\n",
      "                ├──  $x_1 = 0$\n",
      "                │   ├──  $x_2 = 10$\n",
      "                │   └──  $x_2 > 10$\n",
      "                ├──  $0 < x_1 < 2$\n",
      "                │   ├──  $x_2 = 10 - 5 x_{1}$\n",
      "                │   └──  $x_2 > 10 - 5 x_{1}$\n",
      "                ├──  $x_1 = 2$\n",
      "                │   ├──  $x_2 = 0$\n",
      "                │   └──  $x_2 > 0$\n",
      "                └──  $x_1 > 2$\n",
      "                    ├──  $x_2 = 0$\n",
      "                    └──  $x_2 > 0$\n"
     ]
    }
   ],
   "source": [
    "simplex_1 = cad.simplex_cad([a,b])\n",
    "simplex_2 = cad.simplex_cad([c,d], rhs=0.5)\n",
    "\n",
    "simplex_1 = cad.glue_simplex_cads([simplex_1, simplex_2])\n",
    "tree = cad.simplex_extensible_cad(simplex_1, -10, [a*b+5, c*d + a], [x_1, x_2])\n",
    "\n",
    "cad.cad_print(tree)"
   ]
  },
  {
   "cell_type": "markdown",
   "metadata": {},
   "source": [
    "If you already have the function $f^*$, there is a utility function that will extract the $g$ functions from it. It returns a list, the first element being $g_0$, and the remaining being $g_i$ matching the $x_i$."
   ]
  },
  {
   "cell_type": "code",
   "execution_count": 189,
   "metadata": {},
   "outputs": [
    {
     "data": {
      "text/plain": [
       "[-10*a*b, a*x_1, b*x_2]"
      ]
     },
     "execution_count": 189,
     "metadata": {},
     "output_type": "execute_result"
    }
   ],
   "source": [
    "cad.make_g_functions(a*x_1 + b*x_2 - 10*a*b, xvars=[x_1, x_2])"
   ]
  },
  {
   "cell_type": "markdown",
   "metadata": {},
   "source": [
    "## Rendering utilities"
   ]
  },
  {
   "cell_type": "markdown",
   "metadata": {},
   "source": [
    "There are two helpful functions given to help with rendering CAD trees. The first one is for printing in your jupyter notbeook or console. Simply pass your root to `cad_print()`. It will print the conditions of each cell in LaTeX."
   ]
  },
  {
   "cell_type": "code",
   "execution_count": 191,
   "metadata": {},
   "outputs": [
    {
     "name": "stdout",
     "output_type": "stream",
     "text": [
      "root\n",
      "├──  $a = 0$\n",
      "│   └──  $b = 1$\n",
      "├──  $0 < a < 1$\n",
      "│   └──  $b = 1 - a$\n",
      "└──  $a = 1$\n",
      "    └──  $b = 0$\n"
     ]
    }
   ],
   "source": [
    "tree = cad.simplex_cad([a,b])\n",
    "cad.cad_print(tree)"
   ]
  },
  {
   "cell_type": "markdown",
   "metadata": {},
   "source": [
    "You can also set `print_sample=True` if you want the sample point value printed after each node."
   ]
  },
  {
   "cell_type": "code",
   "execution_count": 194,
   "metadata": {},
   "outputs": [
    {
     "name": "stdout",
     "output_type": "stream",
     "text": [
      "root\n",
      "├──  $a = 0$, sample=0\n",
      "│   └──  $b = 1$, sample=1\n",
      "├──  $0 < a < 1$, sample=1/2\n",
      "│   └──  $b = 1 - a$, sample=1/2\n",
      "└──  $a = 1$, sample=1\n",
      "    └──  $b = 0$, sample=0\n"
     ]
    }
   ],
   "source": [
    "cad.cad_print(tree, print_sample=True)"
   ]
  },
  {
   "cell_type": "markdown",
   "metadata": {},
   "source": [
    "You can also specify a `defining_poly`, which is an expression that you want to evaluate at each leaf. This will add a single node to each existing leaf which will display the value of the given polynomial evaluated at the sample points. This can help give an indication of how the polynomial behaves over the tree."
   ]
  },
  {
   "cell_type": "code",
   "execution_count": 196,
   "metadata": {},
   "outputs": [
    {
     "name": "stdout",
     "output_type": "stream",
     "text": [
      "root\n",
      "├──  $a = 0$, sample=0\n",
      "│   └──  $b = 1$, sample=1\n",
      "│       └──  $f^* = 1$, sample=1\n",
      "├──  $0 < a < 1$, sample=1/2\n",
      "│   └──  $b = 1 - a$, sample=1/2\n",
      "│       └──  $f^* = 1$, sample=1\n",
      "└──  $a = 1$, sample=1\n",
      "    └──  $b = 0$, sample=0\n",
      "        └──  $f^* = 1$, sample=1\n"
     ]
    }
   ],
   "source": [
    "cad.cad_print(tree, print_sample=True, defining_poly=a+b)"
   ]
  },
  {
   "cell_type": "markdown",
   "metadata": {},
   "source": [
    "As expected, $a + b = 1$ always."
   ]
  },
  {
   "cell_type": "markdown",
   "metadata": {},
   "source": [
    "The other printing function is `cad_latex()`, which takes the root of a tree and converts it into LaTeX code, using the forest package."
   ]
  },
  {
   "cell_type": "code",
   "execution_count": 207,
   "metadata": {},
   "outputs": [
    {
     "name": "stdout",
     "output_type": "stream",
     "text": [
      "\\begin{forest}\n",
      "[{}, phantom\n",
      "[{$a = 0$}\n",
      "\t[{$b = 0$}\n",
      "\t\t[{$c = 1$}]\n",
      "\t]\n",
      "\t[{$0 < b < 1$}\n",
      "\t\t[{$c = 1 - b$}]\n",
      "\t]\n",
      "\t[{$b = 1$}\n",
      "\t\t[{$c = 0$}]\n",
      "\t]\n",
      "]\n",
      "[{$0 < a < 1$}\n",
      "\t[{$b = 0$}\n",
      "\t\t[{$c = 1 - a$}]\n",
      "\t]\n",
      "\t[{$0 < b < 1 - a$}\n",
      "\t\t[{$c = - a - b + 1$}]\n",
      "\t]\n",
      "\t[{$b = 1 - a$}\n",
      "\t\t[{$c = 0$}]\n",
      "\t]\n",
      "]\n",
      "[{$a = 1$}\n",
      "\t[{$b = 0$}\n",
      "\t\t[{$c = 0$}]\n",
      "\t]\n",
      "]\n",
      "]\n",
      "\\end{forest}\n"
     ]
    }
   ],
   "source": [
    "tree = cad.simplex_cad([a,b,c])\n",
    "print(cad.cad_latex(tree))"
   ]
  },
  {
   "cell_type": "markdown",
   "metadata": {},
   "source": [
    "You can also optionally specify `file_path`, to write it to a TeX file."
   ]
  },
  {
   "cell_type": "code",
   "execution_count": 208,
   "metadata": {},
   "outputs": [
    {
     "data": {
      "text/plain": [
       "'\\\\begin{forest}\\n[{}, phantom\\n[{$a = 0$}\\n\\t[{$b = 0$}\\n\\t\\t[{$c = 1$}]\\n\\t]\\n\\t[{$0 < b < 1$}\\n\\t\\t[{$c = 1 - b$}]\\n\\t]\\n\\t[{$b = 1$}\\n\\t\\t[{$c = 0$}]\\n\\t]\\n]\\n[{$0 < a < 1$}\\n\\t[{$b = 0$}\\n\\t\\t[{$c = 1 - a$}]\\n\\t]\\n\\t[{$0 < b < 1 - a$}\\n\\t\\t[{$c = - a - b + 1$}]\\n\\t]\\n\\t[{$b = 1 - a$}\\n\\t\\t[{$c = 0$}]\\n\\t]\\n]\\n[{$a = 1$}\\n\\t[{$b = 0$}\\n\\t\\t[{$c = 0$}]\\n\\t]\\n]\\n]\\n\\\\end{forest}'"
      ]
     },
     "execution_count": 208,
     "metadata": {},
     "output_type": "execute_result"
    }
   ],
   "source": [
    "tree = cad.simplex_cad([a,b,c])\n",
    "cad.cad_latex(tree, file_path='example_cad.tex')"
   ]
  },
  {
   "cell_type": "markdown",
   "metadata": {},
   "source": [
    "You can then easily include it in as a figure in your LaTeX document as follows:\n",
    "\n",
    "```\n",
    "\\begin{figure}\n",
    "        \\centering\n",
    "        \\input{example_cad}\n",
    "\\end{figure}\n",
    "```"
   ]
  },
  {
   "cell_type": "code",
   "execution_count": null,
   "metadata": {},
   "outputs": [],
   "source": []
  }
 ],
 "metadata": {
  "kernelspec": {
   "display_name": "Python 3",
   "language": "python",
   "name": "python3"
  },
  "language_info": {
   "codemirror_mode": {
    "name": "ipython",
    "version": 3
   },
   "file_extension": ".py",
   "mimetype": "text/x-python",
   "name": "python",
   "nbconvert_exporter": "python",
   "pygments_lexer": "ipython3",
   "version": "3.11.5"
  }
 },
 "nbformat": 4,
 "nbformat_minor": 2
}
